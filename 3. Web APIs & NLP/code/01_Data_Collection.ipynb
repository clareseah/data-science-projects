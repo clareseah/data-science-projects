{
 "cells": [
  {
   "cell_type": "markdown",
   "id": "61e34e2d-9bce-4230-8765-2ec70f8b6f40",
   "metadata": {},
   "source": [
    "<img src=\"http://imgur.com/1ZcRyrc.png\" style=\"float: left; margin: 20px; height: 55px\">\n",
    "\n",
    "# Project 3: Web APIs & NLP\n",
    "# Notebook 1 - Data collection"
   ]
  },
  {
   "cell_type": "markdown",
   "id": "acc5d8ce-9409-4c60-9e84-6314044613a7",
   "metadata": {},
   "source": [
    "## Problem Statement \n",
    "\n",
    "We are a group of data scientists looking to open a cafe by making data-driven business decisions. \n",
    "In order to do this, we will first analyze posts from the 'Coffee' and 'Tea' subreddits to develop a classification model capable of segregating texts into 'Coffee' and 'Tea' categories. And then filter out the most popular flavour profiles and drinks to create a data driven menu. "
   ]
  },
  {
   "cell_type": "code",
   "execution_count": 1,
   "id": "9b728899-db98-41e6-858f-6fca78051675",
   "metadata": {},
   "outputs": [],
   "source": [
    "# import libraries\n",
    "\n",
    "import pandas as pd \n",
    "import requests\n",
    "import time\n",
    "import random\n",
    "import datetime"
   ]
  },
  {
   "cell_type": "code",
   "execution_count": 2,
   "id": "93bac032-dcf9-4a7d-a916-abce718f4337",
   "metadata": {},
   "outputs": [],
   "source": [
    "url = 'https://api.pushshift.io/reddit/search/submission' # using pushshift endpoints to scrap reddit submissions"
   ]
  },
  {
   "cell_type": "code",
   "execution_count": 3,
   "id": "20dd7378-4116-4238-ae4f-ca25535ec2ab",
   "metadata": {},
   "outputs": [],
   "source": [
    "# function for extraction of reddit submissions\n",
    "def get_posts(url, subreddit, before_date):\n",
    "    params = {\n",
    "        'subreddit': subreddit,\n",
    "        'size': 250, \n",
    "        'before': before_date\n",
    "    }\n",
    "    sub_reddit = []\n",
    "    for i in range(60): # 15_000 posts, with a size of 250 will require 60 runs\n",
    "        res = requests.get(url, params)\n",
    "        if res.status_code != 200:\n",
    "            print(f'Error Status Code: {res.status_code}')\n",
    "        else:\n",
    "            data = res.json()\n",
    "            sub_reddit += data['data']\n",
    "            params['before'] = sub_reddit[-1]['created_utc']\n",
    "            time.sleep((random.randint(2,5)))\n",
    "            print(f'Run {i} completed')\n",
    "    return sub_reddit\n",
    "            "
   ]
  },
  {
   "cell_type": "code",
   "execution_count": 4,
   "id": "436c7ef0-f746-4176-9e8d-62d28696a855",
   "metadata": {
    "tags": []
   },
   "outputs": [
    {
     "name": "stdout",
     "output_type": "stream",
     "text": [
      "Run 0 completed\n",
      "Run 1 completed\n",
      "Run 2 completed\n",
      "Run 3 completed\n",
      "Run 4 completed\n",
      "Run 5 completed\n",
      "Run 6 completed\n",
      "Run 7 completed\n",
      "Run 8 completed\n",
      "Run 9 completed\n",
      "Run 10 completed\n",
      "Run 11 completed\n",
      "Run 12 completed\n",
      "Run 13 completed\n",
      "Run 14 completed\n",
      "Run 15 completed\n",
      "Run 16 completed\n",
      "Run 17 completed\n",
      "Run 18 completed\n",
      "Run 19 completed\n",
      "Run 20 completed\n",
      "Run 21 completed\n",
      "Run 22 completed\n",
      "Run 23 completed\n",
      "Run 24 completed\n",
      "Run 25 completed\n",
      "Run 26 completed\n",
      "Run 27 completed\n",
      "Run 28 completed\n",
      "Run 29 completed\n",
      "Run 30 completed\n",
      "Run 31 completed\n",
      "Run 32 completed\n",
      "Run 33 completed\n",
      "Run 34 completed\n",
      "Run 35 completed\n",
      "Run 36 completed\n",
      "Run 37 completed\n",
      "Run 38 completed\n",
      "Run 39 completed\n",
      "Run 40 completed\n",
      "Run 41 completed\n",
      "Run 42 completed\n",
      "Run 43 completed\n",
      "Run 44 completed\n",
      "Run 45 completed\n",
      "Run 46 completed\n",
      "Run 47 completed\n",
      "Run 48 completed\n",
      "Run 49 completed\n",
      "Run 50 completed\n",
      "Run 51 completed\n",
      "Run 52 completed\n",
      "Run 53 completed\n",
      "Run 54 completed\n",
      "Run 55 completed\n",
      "Run 56 completed\n",
      "Run 57 completed\n",
      "Run 58 completed\n",
      "Run 59 completed\n"
     ]
    }
   ],
   "source": [
    "coffee = get_posts(url, 'coffee', 1664582400)"
   ]
  },
  {
   "cell_type": "code",
   "execution_count": 5,
   "id": "c65abdc5-83b5-4296-b34d-dab0bd896fd8",
   "metadata": {},
   "outputs": [
    {
     "data": {
      "text/plain": [
       "14979"
      ]
     },
     "execution_count": 5,
     "metadata": {},
     "output_type": "execute_result"
    }
   ],
   "source": [
    "len(coffee)"
   ]
  },
  {
   "cell_type": "code",
   "execution_count": 6,
   "id": "cd0cef55-d8c1-4ca4-a022-03ead0c3bb0f",
   "metadata": {},
   "outputs": [],
   "source": [
    "coffee_df = pd.DataFrame(coffee)"
   ]
  },
  {
   "cell_type": "code",
   "execution_count": 7,
   "id": "6e234318-b476-4e62-b1c3-ac62e8ecb1d2",
   "metadata": {
    "tags": []
   },
   "outputs": [
    {
     "data": {
      "text/plain": [
       "0        1664581292\n",
       "1        1664579910\n",
       "2        1664579037\n",
       "3        1664578285\n",
       "4        1664577472\n",
       "            ...    \n",
       "14974    1641176499\n",
       "14975    1641175984\n",
       "14976    1641175603\n",
       "14977    1641173271\n",
       "14978    1641172582\n",
       "Name: created_utc, Length: 14979, dtype: int64"
      ]
     },
     "execution_count": 7,
     "metadata": {},
     "output_type": "execute_result"
    }
   ],
   "source": [
    "coffee_df['created_utc']"
   ]
  },
  {
   "cell_type": "markdown",
   "id": "d51c490f-45e3-4e38-8311-9c5091b19134",
   "metadata": {},
   "source": [
    "The coffee dataset covers posts from 3<sup>rd</sup> Jan 2022 to 1<sup>st</sup> October 2022."
   ]
  },
  {
   "cell_type": "code",
   "execution_count": 8,
   "id": "6129bc16-d4ab-45e9-88f2-7f922d6fb39e",
   "metadata": {
    "tags": []
   },
   "outputs": [
    {
     "name": "stdout",
     "output_type": "stream",
     "text": [
      "Run 0 completed\n",
      "Run 1 completed\n",
      "Run 2 completed\n",
      "Run 3 completed\n",
      "Run 4 completed\n",
      "Run 5 completed\n",
      "Run 6 completed\n",
      "Run 7 completed\n",
      "Run 8 completed\n",
      "Run 9 completed\n",
      "Run 10 completed\n",
      "Run 11 completed\n",
      "Run 12 completed\n",
      "Run 13 completed\n",
      "Run 14 completed\n",
      "Run 15 completed\n",
      "Run 16 completed\n",
      "Run 17 completed\n",
      "Run 18 completed\n",
      "Run 19 completed\n",
      "Run 20 completed\n",
      "Run 21 completed\n",
      "Run 22 completed\n",
      "Run 23 completed\n",
      "Run 24 completed\n",
      "Run 25 completed\n",
      "Run 26 completed\n",
      "Run 27 completed\n",
      "Run 28 completed\n",
      "Run 29 completed\n",
      "Run 30 completed\n",
      "Run 31 completed\n",
      "Run 32 completed\n",
      "Run 33 completed\n",
      "Run 34 completed\n",
      "Run 35 completed\n",
      "Run 36 completed\n",
      "Run 37 completed\n",
      "Run 38 completed\n",
      "Run 39 completed\n",
      "Run 40 completed\n",
      "Run 41 completed\n",
      "Run 42 completed\n",
      "Run 43 completed\n",
      "Run 44 completed\n",
      "Run 45 completed\n",
      "Run 46 completed\n",
      "Run 47 completed\n",
      "Run 48 completed\n",
      "Run 49 completed\n",
      "Run 50 completed\n",
      "Run 51 completed\n",
      "Run 52 completed\n",
      "Run 53 completed\n",
      "Run 54 completed\n",
      "Run 55 completed\n",
      "Run 56 completed\n",
      "Run 57 completed\n",
      "Run 58 completed\n",
      "Run 59 completed\n"
     ]
    }
   ],
   "source": [
    "tea = get_posts(url, 'tea', 1664582400)"
   ]
  },
  {
   "cell_type": "code",
   "execution_count": 9,
   "id": "87673a1e-689a-4294-9827-956c74c943df",
   "metadata": {},
   "outputs": [
    {
     "data": {
      "text/plain": [
       "14971"
      ]
     },
     "execution_count": 9,
     "metadata": {},
     "output_type": "execute_result"
    }
   ],
   "source": [
    "len(tea)"
   ]
  },
  {
   "cell_type": "code",
   "execution_count": 10,
   "id": "c2974e2d-774e-4eef-9fe8-2f72185df028",
   "metadata": {},
   "outputs": [],
   "source": [
    "tea_df = pd.DataFrame(tea)"
   ]
  },
  {
   "cell_type": "code",
   "execution_count": 11,
   "id": "b9e755e7-a070-4c1f-8d91-43139ec94e2c",
   "metadata": {
    "tags": []
   },
   "outputs": [
    {
     "data": {
      "text/plain": [
       "0        1664578075\n",
       "1        1664575731\n",
       "2        1664573221\n",
       "3        1664568074\n",
       "4        1664559432\n",
       "            ...    \n",
       "14966    1629596349\n",
       "14967    1629594998\n",
       "14968    1629589895\n",
       "14969    1629583662\n",
       "14970    1629583267\n",
       "Name: created_utc, Length: 14971, dtype: int64"
      ]
     },
     "execution_count": 11,
     "metadata": {},
     "output_type": "execute_result"
    }
   ],
   "source": [
    "tea_df['created_utc']"
   ]
  },
  {
   "cell_type": "markdown",
   "id": "04831c6e-dc60-49f0-a739-abc7ea177b69",
   "metadata": {},
   "source": [
    "The tea dataset covers posts from 22<sup>nd</sup> August 2021 to 1<sup>st</sup> October 2022"
   ]
  },
  {
   "cell_type": "code",
   "execution_count": 12,
   "id": "7d485b61-ceb4-4921-a654-69ed9bc62578",
   "metadata": {},
   "outputs": [],
   "source": [
    "coffee_df.to_csv('../datasets/coffee_scraped.csv', index = False)\n",
    "tea_df.to_csv('../datasets/tea_scraped.csv', index = False)"
   ]
  },
  {
   "cell_type": "markdown",
   "id": "774e393e-8eb5-4128-bd55-f4a69f6d2c60",
   "metadata": {},
   "source": [
    "To collect data for analysis of Coffee and Tea, a total of 15000 submissions from each subreddit that were submitted before 1<sup>st</sup> October 2022 0000hr were scrapped.<br>\n",
    "14979 out of 15000 submissions from Coffee subreddit were collected. These submissions were posted between 3<sup>rd</sup> Jan 2022 and 1<sup>st</sup> October 2022.<br>\n",
    "out of 15000 submissions from Tea subreddit were collected. These submissions were posted between 22<sup>nd</sup> August 2021 and 1<sup>st</sup> October 2022."
   ]
  }
 ],
 "metadata": {
  "kernelspec": {
   "display_name": "Python 3 (ipykernel)",
   "language": "python",
   "name": "python3"
  },
  "language_info": {
   "codemirror_mode": {
    "name": "ipython",
    "version": 3
   },
   "file_extension": ".py",
   "mimetype": "text/x-python",
   "name": "python",
   "nbconvert_exporter": "python",
   "pygments_lexer": "ipython3",
   "version": "3.8.13"
  }
 },
 "nbformat": 4,
 "nbformat_minor": 5
}
